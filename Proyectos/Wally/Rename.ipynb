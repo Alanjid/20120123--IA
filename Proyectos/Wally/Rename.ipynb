{
 "cells": [
  {
   "cell_type": "markdown",
   "id": "2877271d",
   "metadata": {},
   "source": [
    "# Rename"
   ]
  },
  {
   "cell_type": "code",
   "execution_count": 4,
   "id": "3827b14a-0d32-4d62-8b10-88ca5c492cc4",
   "metadata": {},
   "outputs": [
    {
     "name": "stdout",
     "output_type": "stream",
     "text": [
      "Renombrado: C:\\Users\\alanj\\Desktop\\IA\\Proyectos\\Wally\\DataSet\\n\\n-0.jpg -> C:\\Users\\alanj\\Desktop\\IA\\Proyectos\\Wally\\DataSet\\n\\n-0.jpg\n",
      "Renombrado: C:\\Users\\alanj\\Desktop\\IA\\Proyectos\\Wally\\DataSet\\n\\n-1.jpg -> C:\\Users\\alanj\\Desktop\\IA\\Proyectos\\Wally\\DataSet\\n\\n-1.jpg\n"
     ]
    },
    {
     "ename": "FileExistsError",
     "evalue": "[WinError 183] No se puede crear un archivo que ya existe: 'C:\\\\Users\\\\alanj\\\\Desktop\\\\IA\\\\Proyectos\\\\Wally\\\\DataSet\\\\n\\\\n-10.jpg' -> 'C:\\\\Users\\\\alanj\\\\Desktop\\\\IA\\\\Proyectos\\\\Wally\\\\DataSet\\\\n\\\\n-2.jpg'",
     "output_type": "error",
     "traceback": [
      "\u001b[1;31m---------------------------------------------------------------------------\u001b[0m",
      "\u001b[1;31mFileExistsError\u001b[0m                           Traceback (most recent call last)",
      "Cell \u001b[1;32mIn[4], line 37\u001b[0m\n\u001b[0;32m     35\u001b[0m \u001b[38;5;66;03m# Forma de usar\u001b[39;00m\n\u001b[0;32m     36\u001b[0m ruta_imagenes \u001b[38;5;241m=\u001b[39m \u001b[38;5;124m\"\u001b[39m\u001b[38;5;124mC:\u001b[39m\u001b[38;5;130;01m\\\\\u001b[39;00m\u001b[38;5;124mUsers\u001b[39m\u001b[38;5;130;01m\\\\\u001b[39;00m\u001b[38;5;124malanj\u001b[39m\u001b[38;5;130;01m\\\\\u001b[39;00m\u001b[38;5;124mDesktop\u001b[39m\u001b[38;5;130;01m\\\\\u001b[39;00m\u001b[38;5;124mIA\u001b[39m\u001b[38;5;130;01m\\\\\u001b[39;00m\u001b[38;5;124mProyectos\u001b[39m\u001b[38;5;130;01m\\\\\u001b[39;00m\u001b[38;5;124mWally\u001b[39m\u001b[38;5;130;01m\\\\\u001b[39;00m\u001b[38;5;124mDataSet\u001b[39m\u001b[38;5;130;01m\\\\\u001b[39;00m\u001b[38;5;124mn\u001b[39m\u001b[38;5;124m\"\u001b[39m\n\u001b[1;32m---> 37\u001b[0m \u001b[43mrenombrar_imagenes\u001b[49m\u001b[43m(\u001b[49m\u001b[43mruta_imagenes\u001b[49m\u001b[43m)\u001b[49m\n",
      "Cell \u001b[1;32mIn[4], line 30\u001b[0m, in \u001b[0;36mrenombrar_imagenes\u001b[1;34m(ruta)\u001b[0m\n\u001b[0;32m     28\u001b[0m     nueva_ruta \u001b[38;5;241m=\u001b[39m os\u001b[38;5;241m.\u001b[39mpath\u001b[38;5;241m.\u001b[39mjoin(ruta, nuevo_nombre)\n\u001b[0;32m     29\u001b[0m     \u001b[38;5;66;03m# Renombrar el archivo\u001b[39;00m\n\u001b[1;32m---> 30\u001b[0m     \u001b[43mos\u001b[49m\u001b[38;5;241;43m.\u001b[39;49m\u001b[43mrename\u001b[49m\u001b[43m(\u001b[49m\u001b[43mimagen\u001b[49m\u001b[43m,\u001b[49m\u001b[43m \u001b[49m\u001b[43mnueva_ruta\u001b[49m\u001b[43m)\u001b[49m\n\u001b[0;32m     31\u001b[0m     \u001b[38;5;28mprint\u001b[39m(\u001b[38;5;124mf\u001b[39m\u001b[38;5;124m\"\u001b[39m\u001b[38;5;124mRenombrado: \u001b[39m\u001b[38;5;132;01m{\u001b[39;00mimagen\u001b[38;5;132;01m}\u001b[39;00m\u001b[38;5;124m -> \u001b[39m\u001b[38;5;132;01m{\u001b[39;00mnueva_ruta\u001b[38;5;132;01m}\u001b[39;00m\u001b[38;5;124m\"\u001b[39m)\n\u001b[0;32m     33\u001b[0m \u001b[38;5;28mprint\u001b[39m(\u001b[38;5;124m\"\u001b[39m\u001b[38;5;124mRenombrado completado.\u001b[39m\u001b[38;5;124m\"\u001b[39m)\n",
      "\u001b[1;31mFileExistsError\u001b[0m: [WinError 183] No se puede crear un archivo que ya existe: 'C:\\\\Users\\\\alanj\\\\Desktop\\\\IA\\\\Proyectos\\\\Wally\\\\DataSet\\\\n\\\\n-10.jpg' -> 'C:\\\\Users\\\\alanj\\\\Desktop\\\\IA\\\\Proyectos\\\\Wally\\\\DataSet\\\\n\\\\n-2.jpg'"
     ]
    }
   ],
   "source": [
    "import os\n",
    "import glob\n",
    "\n",
    "def renombrar_imagenes(ruta):\n",
    "    # Verificar si la ruta existe\n",
    "    if not os.path.exists(ruta):\n",
    "        print(f\"La ruta {ruta} no existe.\")\n",
    "        return\n",
    "\n",
    "    # Buscar todas las imágenes en la ruta (considerando las extensiones más comunes)\n",
    "    imagenes = glob.glob(os.path.join(ruta, \"*.png\")) + \\\n",
    "               glob.glob(os.path.join(ruta, \"*.jpg\")) + \\\n",
    "               glob.glob(os.path.join(ruta, \"*.jpeg\")) + \\\n",
    "               glob.glob(os.path.join(ruta, \"*.bmp\")) + \\\n",
    "               glob.glob(os.path.join(ruta, \"*.gif\"))\n",
    "\n",
    "    if not imagenes:\n",
    "        print(f\"No se encontraron imágenes en la ruta {ruta}.\")\n",
    "        return\n",
    "\n",
    "    # Renombrar cada imagen\n",
    "    for i, imagen in enumerate(imagenes):\n",
    "        # Obtener la extensión del archivo\n",
    "        extension = os.path.splitext(imagen)[1]\n",
    "        # Crear el nuevo nombre\n",
    "        nuevo_nombre = f\"n-{i}.jpg\" #aqui colocar el nombre deseado de las imagenes\n",
    "        # Obtener la ruta completa del nuevo nombre\n",
    "        nueva_ruta = os.path.join(ruta, nuevo_nombre)\n",
    "        # Renombrar el archivo\n",
    "        os.rename(imagen, nueva_ruta)\n",
    "        print(f\"Renombrado: {imagen} -> {nueva_ruta}\")\n",
    "\n",
    "    print(\"Renombrado completado.\")\n",
    "\n",
    "# Forma de usar\n",
    "ruta_imagenes = \"C:\\\\Users\\\\alanj\\\\Desktop\\\\IA\\\\Proyectos\\\\Wally\\\\DataSet\\\\n\"\n",
    "renombrar_imagenes(ruta_imagenes)\n"
   ]
  }
 ],
 "metadata": {
  "kernelspec": {
   "display_name": "Python 3 (ipykernel)",
   "language": "python",
   "name": "python3"
  },
  "language_info": {
   "codemirror_mode": {
    "name": "ipython",
    "version": 3
   },
   "file_extension": ".py",
   "mimetype": "text/x-python",
   "name": "python",
   "nbconvert_exporter": "python",
   "pygments_lexer": "ipython3",
   "version": "3.12.0"
  }
 },
 "nbformat": 4,
 "nbformat_minor": 5
}
