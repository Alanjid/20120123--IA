{
 "cells": [
  {
   "cell_type": "markdown",
   "id": "13f4249d-8e0a-4fca-964b-cc35e223027e",
   "metadata": {},
   "source": [
    "## Wallo"
   ]
  },
  {
   "cell_type": "code",
   "execution_count": 1,
   "id": "a15a1771-a124-452b-922b-51c356d8752c",
   "metadata": {},
   "outputs": [],
   "source": [
    "import numpy as np\n",
    "import cv2 as cv\n",
    "import os\n",
    "import matplotlib.pyplot as plt\n",
    "\n",
    "# Cargar la imagen\n",
    "image = cv.imread('C:\\\\Users\\\\alanj\\\\Desktop\\\\IA\\\\Proyectos\\\\Wally\\\\img9.png')\n",
    "gray = cv.cvtColor(image, cv.COLOR_BGR2GRAY)\n",
    "\n",
    "# Cargar el clasificador\n",
    "cascade = cv.CascadeClassifier('C:\\\\Users\\\\alanj\\\\Desktop\\\\IA\\\\Proyectos\\\\Wally\\\\DataSet\\\\classifier\\\\cascade.xml')\n",
    "\n",
    "# Verificar si el clasificador se carga correctamente\n",
    "if cascade.empty():\n",
    "    print(\"Error: No se pudo cargar el clasificador en cascada.\")\n",
    "else:\n",
    "    # Detección de Wally\n",
    "    waldo_detections = cascade.detectMultiScale(gray, scaleFactor=1.10, minNeighbors=120, minSize=(70, 70))\n",
    "\n",
    "    # Dibujar los rectángulos de detección\n",
    "    for (x, y, w, h) in waldo_detections:\n",
    "        cv.rectangle(image, (x, y), (x + w, y + h), (255, 0, 0), 2)\n",
    "\n",
    "    # Convertir la imagen de BGR a RGB para mostrarla\n",
    "    image_rgb_with_detections = cv.cvtColor(image, cv.COLOR_BGR2RGB)\n",
    "\n",
    "    # Mostrar la imagen con las detecciones\n",
    "    plt.figure(figsize=(10, 8))\n",
    "    plt.imshow(image_rgb_with_detections)\n",
    "    plt.axis('off')\n",
    "    plt.show()\n",
    "\n",
    "    # Verificar las coordenadas de detección\n",
    "    print(\"Coordenadas de detección:\", waldo_detections)\n"
   ]
  }
 ],
 "metadata": {
  "kernelspec": {
   "display_name": "Python 3 (ipykernel)",
   "language": "python",
   "name": "python3"
  },
  "language_info": {
   "codemirror_mode": {
    "name": "ipython",
    "version": 3
   },
   "file_extension": ".py",
   "mimetype": "text/x-python",
   "name": "python",
   "nbconvert_exporter": "python",
   "pygments_lexer": "ipython3",
   "version": "3.12.0"
  }
 },
 "nbformat": 4,
 "nbformat_minor": 5
}
