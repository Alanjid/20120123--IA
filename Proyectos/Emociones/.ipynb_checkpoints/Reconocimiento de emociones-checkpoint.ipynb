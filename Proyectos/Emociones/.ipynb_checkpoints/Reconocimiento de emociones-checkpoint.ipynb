{
 "cells": [
  {
   "cell_type": "markdown",
   "id": "ac34e27a-0300-4911-81af-fbb116ffb287",
   "metadata": {},
   "source": [
    "# Proyecto final"
   ]
  },
  {
   "cell_type": "markdown",
   "id": "db3c3964-d1fc-4be6-a650-89a9314d2db9",
   "metadata": {},
   "source": [
    "## Para el proyecto de reconocimiento de emociones se utilizó LBPH con un dataSet de un aproximado de 25 personas en distintas iluminaciones"
   ]
  },
  {
   "cell_type": "markdown",
   "id": "90634c4f",
   "metadata": {},
   "source": [
    "# FacialRecognize"
   ]
  },
  {
   "cell_type": "markdown",
   "id": "3eb759f0",
   "metadata": {},
   "source": [
    "mediante el archivo xml puedes reconocer ciertos patrones asociados a un rostro."
   ]
  },
  {
   "cell_type": "code",
   "execution_count": null,
   "id": "db96141e",
   "metadata": {},
   "outputs": [],
   "source": [
    "import cv2 as cv\n",
    "\n",
    "cap = cv.VideoCapture(0)\n",
    "while(True):\n",
    "    ret, img = cap.read()\n",
    "    if ret == True:\n",
    "        img2 = cv.cvtColor(img, cv.COLOR_BGR2HSV)\n",
    "        ubb=(100,0,0)\n",
    "        uba=(110, 255, 255)\n",
    "        mask = cv.inRange(img2, ubb, uba) \n",
    "        res = cv.bitwise_and(img,img, mask-mask)\n",
    "        cv.imshow('img2', img)\n",
    "        cv.imshow('res', res)\n",
    "        cv.imshow('mask', mask)\n",
    "        k =cv.waitKey(20) & 0xFF\n",
    "        if k == 27 :\n",
    "            break\n",
    "cap.release()\n",
    "cv.destroyAllWindows()"
   ]
  },
  {
   "cell_type": "code",
   "execution_count": null,
   "id": "4ce58a1a",
   "metadata": {},
   "outputs": [],
   "source": [
    "import numpy as np\n",
    "import cv2 as cv\n",
    "import math\n",
    "rostro = cv.CascadeClassifier('C:\\\\Users\\\\alanj\\\\Desktop\\\\IA\\\\Proyectos\\\\proyectos\\\\Emociones\\\\EmocionesLBPHZwei.xml')\n",
    "\n",
    "cap = cv.VideoCapture(0) #Aqui se podría el link del video\n",
    "while True:\n",
    "    ret, frame = cap.read()\n",
    "    gray = cv.cvtColor(frame, cv.COLOR_BGR2GRAY)\n",
    "    rostros = rostro.detectMultiScale(gray, 1.3, 5)\n",
    "    for(x, y, w, h) in rostros:\n",
    "        frame = cv.rectangle(frame, (x,y), (x+w, y+h), (0, 255, 0), 2)\n",
    "    cv.imshow('rostros', frame)\n",
    "    k =cv.waitKey(1)\n",
    "    if k == 27 :\n",
    "        break\n",
    "cap.release()\n",
    "cv.destroyAllWindows()"
   ]
  },
  {
   "cell_type": "markdown",
   "id": "52b448c8",
   "metadata": {},
   "source": [
    "Podemos guardar el segmentado del rostro encontrado, con esto crearemos nuestro propio DataSet; solo falta acondicionar el tamaño real del pixelaje."
   ]
  },
  {
   "cell_type": "markdown",
   "id": "6534893a",
   "metadata": {},
   "source": [
    "Con la información (frame) ya segmenteado (frame 2) ahora debemos estandarizar el tamaño. "
   ]
  },
  {
   "cell_type": "markdown",
   "id": "324e3e61-863d-4d66-8eb3-c898fe03d983",
   "metadata": {},
   "source": [
    "## LBPH"
   ]
  },
  {
   "cell_type": "markdown",
   "id": "4da3429f-1bac-4046-8c01-f296d1a4be08",
   "metadata": {},
   "source": [
    "Se genera el XML apuntando al directorio del dataSet"
   ]
  },
  {
   "cell_type": "code",
   "execution_count": null,
   "id": "7397cfd5-e591-4790-98b6-efbe619e4619",
   "metadata": {},
   "outputs": [],
   "source": [
    "import cv2 as cv \n",
    "import numpy as np \n",
    "import os\n",
    "\n",
    "dataSet = 'C:\\\\Users\\\\Jorgi\\\\Desktop\\\\emociones3'\n",
    "faces  = os.listdir(dataSet)\n",
    "print(faces)\n",
    "\n",
    "labels = []\n",
    "facesData = []\n",
    "label = 0 \n",
    "for face in faces:\n",
    "    facePath = dataSet+'\\\\'+face\n",
    "    for faceName in os.listdir(facePath):\n",
    "        labels.append(label)\n",
    "        facesData.append(cv.imread(facePath+'\\\\'+faceName,0))\n",
    "    label = label + 1\n",
    "#print(np.count_nonzero(np.array(labels)==0)) \n",
    "faceRecognizer = cv.face.LBPHFaceRecognizer_create()\n",
    "faceRecognizer.train(facesData, np.array(labels))\n",
    "faceRecognizer.write('C:\\\\Users\\\\Jorgi\\\\Desktop\\\\XML2\\\\EmocionesLBPHDrei.xml')"
   ]
  },
  {
   "cell_type": "code",
   "execution_count": null,
   "id": "557bf817-0dde-429f-aba3-db1799e06e90",
   "metadata": {},
   "outputs": [],
   "source": [
    "import cv2 as cv\n",
    "import os \n",
    "\n",
    "faceRecognizer = cv.face.LBPHFaceRecognizer_create()\n",
    "faceRecognizer.read('C:\\\\Users\\\\Jorgi\\\\Desktop\\\\XML2\\\\EmocionesLBPHDrei.xml')\n",
    "dataSet = 'C:\\\\Users\\\\Jorgi\\\\Desktop\\\\emociones3'\n",
    "faces  = os.listdir(dataSet)\n",
    "cap = cv.VideoCapture(0)\n",
    "rostro = cv.CascadeClassifier('C:\\\\Users\\\\Jorgi\\\\Desktop\\\\Inteligencia Artificial\\\\haarcascade_frontalface_alt.xml')\n",
    "while True:\n",
    "    ret, frame = cap.read()\n",
    "    if ret == False: break\n",
    "    gray = cv.cvtColor(frame, cv.COLOR_BGR2GRAY)\n",
    "    cpGray = gray.copy()\n",
    "    rostros = rostro.detectMultiScale(gray, 1.3, 3)\n",
    "    for(x, y, w, h) in rostros:\n",
    "        frame2 = cpGray[y:y+h, x:x+w]\n",
    "        frame2 = cv.resize(frame2,  (100,100), interpolation=cv.INTER_CUBIC)\n",
    "        result = faceRecognizer.predict(frame2)\n",
    "        cv.putText(frame, '{}'.format(result), (x,y-20), 1,3.3, (255,255,0), 1, cv.LINE_AA)\n",
    "        if result[1] < 100:\n",
    "            cv.putText(frame,'{}'.format(faces[result[0]]),(x,y-25),2,1.1,(0,255,0),1,cv.LINE_AA)\n",
    "            cv.rectangle(frame, (x,y),(x+w,y+h),(0,255,0),2)\n",
    "        else:\n",
    "            cv.putText(frame,'Desconocido',(x,y-20),2,0.8,(0,0,255),1,cv.LINE_AA)\n",
    "            cv.rectangle(frame, (x,y),(x+w,y+h),(0,0,255),2) \n",
    "    cv.imshow('frame', frame)\n",
    "    k = cv.waitKey(1)\n",
    "    if k == 27:\n",
    "        break\n",
    "cap.release()\n",
    "cv.destroyAllWindows()\n",
    "\n"
   ]
  },
  {
   "cell_type": "markdown",
   "id": "3ec8469c-637b-44c7-b6c8-ae335d84a686",
   "metadata": {},
   "source": [
    "Luego procederemos a leer el XML con el Haraascade y encendemos la cámara"
   ]
  },
  {
   "cell_type": "code",
   "execution_count": null,
   "id": "c4e59065",
   "metadata": {},
   "outputs": [],
   "source": [
    "import numpy as np\n",
    "import cv2 as cv\n",
    "import math\n",
    "rostro = cv.CascadeClassifier('C:\\\\Users\\\\Jorgi\\\\Desktop\\\\Inteligencia Artificial\\\\haarcascade_frontalface_alt.xml')\n",
    "\n",
    "cap = cv.VideoCapture(0)\n",
    "i = 0\n",
    "while True:\n",
    "    ret, frame = cap.read()\n",
    "    gray = cv.cvtColor(frame, cv.COLOR_BGR2GRAY)\n",
    "    rostros = rostro.detectMultiScale(gray, 1.3, 5)\n",
    "    for(x, y, w, h) in rostros:\n",
    "        #frame = cv.rectangle(frame, (x,y), (x+w, y+h), (0, 255, 0), 2)\n",
    "        frame2 = frame[y:y+h, x:x+w]\n",
    "        frame2 = cv.resize(frame2, (100, 100), interpolation = cv.INTER_AREA)\n",
    "        cv.imshow('rostros encontrados', frame2)\n",
    "        cv.imwrite('C:\\\\Users\\\\Jorgi\\\\Desktop\\\\o\\\\DancyWAKWAWAKAAA'+str(i)+'.png', frame2)\n",
    "    #cv.imshow('rostros', frame) \n",
    "    i=i+1\n",
    "    k =cv.waitKey(1)\n",
    "    if k == 27 :\n",
    "        break\n",
    "cap.release()\n",
    "cv.destroyAllWindows()"
   ]
  },
  {
   "cell_type": "markdown",
   "id": "1920118e-b6bd-489c-b84b-72290a0d961a",
   "metadata": {},
   "source": [
    "En el resto de celdas están la manera de trabajarde con Eigenface y FisherFace, opciones que fueron descartadas.\n"
   ]
  },
  {
   "cell_type": "markdown",
   "id": "ff80a8f9-2536-4ecb-b102-720410018418",
   "metadata": {},
   "source": [
    "## EIGENFACE"
   ]
  },
  {
   "cell_type": "markdown",
   "id": "97ce709f",
   "metadata": {},
   "source": [
    "Generar xml"
   ]
  },
  {
   "cell_type": "code",
   "execution_count": null,
   "id": "9befe2dd",
   "metadata": {},
   "outputs": [],
   "source": [
    "import cv2 as cv \n",
    "import numpy as np \n",
    "import os\n",
    "\n",
    "dataSet = 'C:\\\\Users\\\\Jorgi\\\\Desktop\\\\Emociones3'\n",
    "faces  = os.listdir(dataSet)\n",
    "print(faces)\n",
    "\n",
    "labels = []\n",
    "facesData = []\n",
    "label = 0 \n",
    "for face in faces:\n",
    "    facePath = dataSet+'\\\\'+face\n",
    "    for faceName in os.listdir(facePath):\n",
    "        labels.append(label)\n",
    "        facesData.append(cv.imread(facePath+'\\\\'+faceName,0))\n",
    "    label = label + 1\n",
    "print(np.count_nonzero(np.array(labels)==0))\n",
    "faceRecognizer = cv.face.EigenFaceRecognizer_create()\n",
    "faceRecognizer.train(facesData, np.array(labels))\n",
    "faceRecognizer.write('C:\\\\Users\\\\Jorgi\\\\Desktop\\\\XML2\\\\Perrites2.xml')\n"
   ]
  },
  {
   "cell_type": "markdown",
   "id": "8ae3944b",
   "metadata": {},
   "source": [
    "A buscar rostros"
   ]
  },
  {
   "cell_type": "code",
   "execution_count": null,
   "id": "05514bd3",
   "metadata": {},
   "outputs": [],
   "source": [
    "import cv2 as cv\n",
    "import os \n",
    "\n",
    "faceRecognizer = cv.face.EigenFaceRecognizer_create()\n",
    "faceRecognizer.read('C:\\\\Users\\\\Jorgi\\\\Desktop\\\\XML2\\\\Perrites2.xml')\n",
    "dataSet = 'C:\\\\Users\\\\Jorgi\\\\Desktop\\\\Emociones3'\n",
    "faces  = os.listdir(dataSet)\n",
    "cap = cv.VideoCapture(0)\n",
    "rostro = cv.CascadeClassifier('C:\\\\Users\\\\Jorgi\\\\Desktop\\\\Inteligencia Artificial\\\\haarcascade_frontalface_alt.xml')\n",
    "while True:\n",
    "    ret, frame = cap.read()\n",
    "    if ret == False: break\n",
    "    gray = cv.cvtColor(frame, cv.COLOR_BGR2GRAY)\n",
    "    cpGray = gray.copy()\n",
    "    rostros = rostro.detectMultiScale(gray, 1.3, 3)\n",
    "    for(x, y, w, h) in rostros:\n",
    "        frame2 = cpGray[y:y+h, x:x+w]\n",
    "        frame2 = cv.resize(frame2,  (100,100), interpolation=cv.INTER_CUBIC)\n",
    "        result = faceRecognizer.predict(frame2)\n",
    "        #cv.putText(frame, '{}'.format(result), (x,y-20), 1,3.3, (0,0,0), 1, cv.LINE_AA)\n",
    "        if result[1] > 2800:\n",
    "            cv.putText(frame,'{}'.format(faces[result[0]]),(x,y-25),2,1.1,(0,255,0),1,cv.LINE_AA)\n",
    "            cv.rectangle(frame, (x,y),(x+w,y+h),(0,255,0),2)\n",
    "        else:\n",
    "            cv.putText(frame,'Desconocido',(x,y-20),2,0.8,(0,0,255),1,cv.LINE_AA)\n",
    "            cv.rectangle(frame, (x,y),(x+w,y+h),(0,0,255),2)\n",
    "    cv.imshow('frame', frame)\n",
    "    k = cv.waitKey(1)\n",
    "    if k == 27:\n",
    "        break\n",
    "cap.release()\n",
    "cv.destroyAllWindows()"
   ]
  },
  {
   "cell_type": "markdown",
   "id": "1f151a72-8e40-49e5-9812-79cf4e67858a",
   "metadata": {},
   "source": [
    "## FISHERFACE"
   ]
  },
  {
   "cell_type": "markdown",
   "id": "0797df4c-6de8-4143-9cd9-981109618d35",
   "metadata": {},
   "source": [
    "Siempre hay que tener en cuenta el tamaño de la imagen y que no se mezcle la información\n",
    "\n",
    "Puedes cambiar el nombre a los archivos, lo que importa es que estén contenidos dentro de una misma carpeta"
   ]
  },
  {
   "cell_type": "markdown",
   "id": "362d075f-afc9-4cbb-8d98-6688df7a124c",
   "metadata": {},
   "source": [
    "Debemos crear un Fisher Face"
   ]
  },
  {
   "cell_type": "code",
   "execution_count": null,
   "id": "82dd0720-fef1-4c3e-bee9-8e610ffacad9",
   "metadata": {},
   "outputs": [],
   "source": [
    "import cv2 as cv \n",
    "import numpy as np \n",
    "import os\n",
    "\n",
    "dataSet = 'D:\\\\MuestreoRostros'\n",
    "faces  = os.listdir(dataSet)\n",
    "print(faces)\n",
    "\n",
    "labels = []\n",
    "facesData = []\n",
    "label = 0 \n",
    "for face in faces:\n",
    "    facePath = dataSet+'\\\\'+face\n",
    "    for faceName in os.listdir(facePath):\n",
    "        labels.append(label)\n",
    "        facesData.append(cv.imread(facePath+'\\\\'+faceName,0))\n",
    "    label = label + 1\n",
    "#print(np.count_nonzero(np.array(labels)==0)) \n",
    "faceRecognizer = cv.face.FisherFaceRecognizer_create()\n",
    "faceRecognizer.train(facesData, np.array(labels))\n",
    "faceRecognizer.write('D:\\\\XML\\\\FisherFace\\\\JorgeFisherface.xml')\n",
    "\n"
   ]
  },
  {
   "cell_type": "markdown",
   "id": "797d2534-03cd-4341-9e2e-892e0c84be91",
   "metadata": {},
   "source": [
    "Así mismo, la lectura se hará con Fisher"
   ]
  },
  {
   "cell_type": "markdown",
   "id": "3eea5158-ec3b-4c17-9012-fc1fc9dee448",
   "metadata": {},
   "source": [
    " Creamos el XML"
   ]
  },
  {
   "cell_type": "code",
   "execution_count": null,
   "id": "d7adb64b-26a4-4ffd-b230-521948dc8a28",
   "metadata": {},
   "outputs": [],
   "source": [
    "import cv2 as cv\n",
    "import os \n",
    "\n",
    "faceRecognizer = cv.face.FisherFaceRecognizer_create()\n",
    "faceRecognizer.read('D:\\\\XML\\\\FisherFace\\\\JorgeFisherface.xml')\n",
    "dataSet = 'D:\\\\MuestreoRostros'\n",
    "faces  = os.listdir(dataSet)\n",
    "cap = cv.VideoCapture(0)\n",
    "rostro = cv.CascadeClassifier('C:\\\\Users\\\\Jorgi\\\\Desktop\\\\Inteligencia Artificial\\\\haarcascade_frontalface_alt.xml')\n",
    "while True:\n",
    "    ret, frame = cap.read()\n",
    "    if ret == False: break\n",
    "    gray = cv.cvtColor(frame, cv.COLOR_BGR2GRAY)\n",
    "    cpGray = gray.copy()\n",
    "    rostros = rostro.detectMultiScale(gray, 1.3, 3)\n",
    "    for(x, y, w, h) in rostros:\n",
    "        frame2 = cpGray[y:y+h, x:x+w]\n",
    "        frame2 = cv.resize(frame2,  (100,100), interpolation=cv.INTER_CUBIC)\n",
    "        result = faceRecognizer.predict(frame2)\n",
    "        cv.putText(frame, '{}'.format(result), (x,y-20), 1,3.3, (255,255,0), 1, cv.LINE_AA)\n",
    "        if result[1] < 500:\n",
    "            cv.putText(frame,'{}'.format(faces[result[0]]),(x,y-25),2,1.1,(0,255,0),1,cv.LINE_AA)\n",
    "            cv.rectangle(frame, (x,y),(x+w,y+h),(0,255,0),2)\n",
    "        else:\n",
    "            cv.putText(frame,'Desconocido',(x,y-20),2,0.8,(0,0,255),1,cv.LINE_AA)\n",
    "            cv.rectangle(frame, (x,y),(x+w,y+h),(0,0,255),2)\n",
    "    cv.imshow('frame', frame)\n",
    "    k = cv.waitKey(1)\n",
    "    if k == 27:\n",
    "        break\n",
    "cap.release()\n",
    "cv.destroyAllWindows()"
   ]
  },
  {
   "cell_type": "code",
   "execution_count": null,
   "id": "9dcda06a-d185-4f74-9ecf-51c47118194a",
   "metadata": {},
   "outputs": [],
   "source": [
    "import cv2 as cv\n",
    "import os \n",
    "\n",
    "faceRecognizer = cv.face.LBPHFaceRecognizer_create()\n",
    "faceRecognizer.read('C:\\\\Users\\\\Jorgi\\\\Desktop\\\\XML2\\\\PersonesLBPH3.xml')\n",
    "dataSet = 'C:\\\\Users\\\\Jorgi\\\\Desktop\\\\persones'\n",
    "faces  = os.listdir(dataSet)\n",
    "cap = cv.VideoCapture(0)\n",
    "rostro = cv.CascadeClassifier('C:\\\\Users\\\\Jorgi\\\\Desktop\\\\Inteligencia Artificial\\\\haarcascade_frontalface_alt.xml')\n",
    "while True:\n",
    "    ret, frame = cap.read()\n",
    "    if ret == False: break\n",
    "    gray = cv.cvtColor(frame, cv.COLOR_BGR2GRAY)\n",
    "    cpGray = gray.copy()\n",
    "    rostros = rostro.detectMultiScale(gray, 1.3, 3)\n",
    "    for(x, y, w, h) in rostros:\n",
    "        frame2 = cpGray[y:y+h, x:x+w]\n",
    "        frame2 = cv.resize(frame2,  (100,100), interpolation=cv.INTER_CUBIC)\n",
    "        result = faceRecognizer.predict(frame2)\n",
    "        cv.putText(frame, '{}'.format(result), (x,y-20), 1,3.3, (255,255,0), 1, cv.LINE_AA)\n",
    "        if result[1] < 100:\n",
    "            cv.putText(frame,'{}'.format(faces[result[0]]),(x,y-25),2,1.1,(0,255,0),1,cv.LINE_AA)\n",
    "            cv.rectangle(frame, (x,y),(x+w,y+h),(0,255,0),2)\n",
    "        else:\n",
    "            cv.putText(frame,'Desconocido',(x,y-20),2,0.8,(0,0,255),1,cv.LINE_AA)\n",
    "            cv.rectangle(frame, (x,y),(x+w,y+h),(0,0,255),2) \n",
    "    cv.imshow('frame', frame)\n",
    "    k = cv.waitKey(1)\n",
    "    if k == 27:\n",
    "        break\n",
    "cap.release()\n",
    "cv.destroyAllWindows()\n",
    "\n"
   ]
  },
  {
   "cell_type": "markdown",
   "id": "af978383-4803-4b34-a825-6511c022d180",
   "metadata": {},
   "source": [
    "## RESIZE"
   ]
  },
  {
   "cell_type": "code",
   "execution_count": null,
   "id": "fd2fe6c0-a2b7-41a8-b438-66494703498f",
   "metadata": {},
   "outputs": [],
   "source": [
    "# Importar las bibliotecas necesarias\n",
    "import numpy as np\n",
    "import cv2 as cv\n",
    "import os\n",
    "\n",
    "# Definir la ruta a la carpeta con las imágenes\n",
    "folder_path = 'D:\\\\ZWally\\\\Ejercicios'  # Reemplaza con la ruta correcta\n",
    "# Definir la función para redimensionar imágenes\n",
    "def resize_images(folder_path, size=(50, 50)):\n",
    "    # Verificar si la carpeta existe\n",
    "    if not os.path.exists(folder_path):\n",
    "        print(f\"La carpeta {folder_path} no existe.\")\n",
    "        return\n",
    "    \n",
    "    # Iterar sobre todos los archivos en la carpeta\n",
    "    for filename in os.listdir(folder_path):\n",
    "        if filename.endswith(('.png', '.jpg', '.jpeg', '.bmp', '.gif')):\n",
    "            try:\n",
    "                img_path = os.path.join(folder_path, filename)\n",
    "                img = cv.imread(img_path)\n",
    "                if img is not None:\n",
    "                    # Redimensionar la imagen\n",
    "                    img_resized = cv.resize(img, size, interpolation=cv.INTER_AREA)\n",
    "                    # Sobrescribir la imagen original con la imagen redimensionada\n",
    "                    cv.imwrite(img_path, img_resized)\n",
    "                    print(f\"Imagen {filename} redimensionada a {size}.\")\n",
    "                else:\n",
    "                    print(f\"No se pudo leer la imagen {filename}.\")\n",
    "            except Exception as e:\n",
    "                print(f\"No se pudo redimensionar la imagen {filename}: {e}\")\n",
    "\n",
    "\n",
    "# Llamar a la función para redimensionar imágenes\n",
    "resize_images(folder_path)\n"
   ]
  },
  {
   "cell_type": "markdown",
   "id": "dc148ee2-9264-42c7-ab94-f294c848274e",
   "metadata": {},
   "source": [
    "## CAMBIAR NOMBRE"
   ]
  },
  {
   "cell_type": "code",
   "execution_count": null,
   "id": "a597a3c0-9023-4ae5-8baf-9e39ae6e9372",
   "metadata": {},
   "outputs": [],
   "source": [
    "import os\n",
    "import glob\n",
    "\n",
    "def renombrar_imagenes(ruta):\n",
    "    # Verificar si la ruta existe\n",
    "    if not os.path.exists(ruta):\n",
    "        print(f\"La ruta {ruta} no existe.\")\n",
    "        return\n",
    "\n",
    "    # Buscar todas las imágenes en la ruta (considerando las extensiones más comunes)\n",
    "    imagenes = glob.glob(os.path.join(ruta, \"*.png\")) + \\\n",
    "               glob.glob(os.path.join(ruta, \"*.jpg\")) + \\\n",
    "               glob.glob(os.path.join(ruta, \"*.jpeg\")) + \\\n",
    "               glob.glob(os.path.join(ruta, \"*.bmp\")) + \\\n",
    "               glob.glob(os.path.join(ruta, \"*.gif\"))\n",
    "\n",
    "    if not imagenes:\n",
    "        print(f\"No se encontraron imágenes en la ruta {ruta}.\")\n",
    "        return\n",
    "\n",
    "    # Renombrar cada imagen\n",
    "    for i, imagen in enumerate(imagenes):\n",
    "        # Obtener la extensión del archivo\n",
    "        extension = os.path.splitext(imagen)[1]\n",
    "        # Crear el nuevo nombre\n",
    "        nuevo_nombre = f\"WallyPos{i}.png\" #aqui colocar el nombre deseado de las imagenes\n",
    "        # Obtener la ruta completa del nuevo nombre\n",
    "        nueva_ruta = os.path.join(ruta, nuevo_nombre)\n",
    "        # Renombrar el archivo\n",
    "        os.rename(imagen, nueva_ruta)\n",
    "        print(f\"Renombrado: {imagen} -> {nueva_ruta}\")\n",
    "\n",
    "    print(\"Renombrado completado.\")\n",
    "\n",
    "# Forma de usar\n",
    "ruta_imagenes = \"D:\\\\ZWally\\\\DataSetWally\\\\p\"\n",
    "renombrar_imagenes(ruta_imagenes)"
   ]
  },
  {
   "cell_type": "code",
   "execution_count": null,
   "id": "3447e8af-488c-46cc-811a-814b777fef89",
   "metadata": {},
   "outputs": [],
   "source": []
  }
 ],
 "metadata": {
  "kernelspec": {
   "display_name": "Python 3 (ipykernel)",
   "language": "python",
   "name": "python3"
  },
  "language_info": {
   "codemirror_mode": {
    "name": "ipython",
    "version": 3
   },
   "file_extension": ".py",
   "mimetype": "text/x-python",
   "name": "python",
   "nbconvert_exporter": "python",
   "pygments_lexer": "ipython3",
   "version": "3.12.0"
  }
 },
 "nbformat": 4,
 "nbformat_minor": 5
}
